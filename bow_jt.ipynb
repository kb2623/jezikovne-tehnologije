{
 "cells": [
  {
   "cell_type": "code",
   "execution_count": null,
   "metadata": {
    "collapsed": true
   },
   "outputs": [],
   "source": [
    "import sys\n",
    "import re\n",
    "from random import shuffle\n",
    "\n",
    "from sklearn import svm\n",
    "from sklearn.metrics import classification_report\n",
    "\n",
    "from nltk.stem import PorterStemmer\n",
    "from nltk.classify.scikitlearn import SklearnClassifier\n",
    "import nltk.corpus\n",
    "from nltk import ngrams, FreqDist"
   ]
  },
  {
   "cell_type": "code",
   "execution_count": null,
   "metadata": {
    "collapsed": true
   },
   "outputs": [],
   "source": [
    "from svmutil import *"
   ]
  },
  {
   "cell_type": "code",
   "execution_count": null,
   "metadata": {
    "collapsed": true
   },
   "outputs": [],
   "source": [
    "def get_znacilke(komentarji, vse_besede):    \n",
    "    '''\n",
    "    Metoda vrne značilke, ki se pojavljajo v posameznem komentarju\n",
    "    '''    \n",
    "    urejene_besede = sorted(vse_besede)\n",
    "    znacilke = []    \n",
    "    for komentar in komentarji:\n",
    "        word_map = {}\n",
    "        for beseda in urejene_besede:\n",
    "            word_map[beseda] = 0\n",
    "        for del_komentarja in komentar:\n",
    "            if(del_komentarja in word_map):\n",
    "                word_map[del_komentarja] = 1\n",
    "        values = list(word_map.values())\n",
    "        znacilke.append(values)\n",
    "    return znacilke"
   ]
  },
  {
   "cell_type": "code",
   "execution_count": null,
   "metadata": {
    "collapsed": true
   },
   "outputs": [],
   "source": [
    "def get_znacilke_oznake(komentarji, vse_besede):\n",
    "    '''\n",
    "    Metoda vrne slovar z tipi komentarji in značilkami, ki se pojavljajo v posameznem komentarju\n",
    "    '''    \n",
    "    urejene_besede = sorted(vse_besede)\n",
    "    znacilke = []\n",
    "    oznake = []    \n",
    "    for komentar in komentarji:\n",
    "        oznaka = 0\n",
    "        word_map = {}\n",
    "        for beseda in urejene_besede:\n",
    "            word_map[beseda] = 0        \n",
    "        if len(komentar) > 1:\n",
    "            besedilo_komentarja = komentar[0]\n",
    "            zaljivost_komentarja = komentar[1]\n",
    "            for del_komentarja in besedilo_komentarja:\n",
    "                word_map[del_komentarja] = 1\n",
    "            values = list(word_map.values())\n",
    "            znacilke.append(values)\n",
    "            if zaljivost_komentarja == 0:\n",
    "                oznaka = 0\n",
    "            elif zaljivost_komentarja == 1:\n",
    "                oznaka = 1\n",
    "            oznake.append(oznaka)        \n",
    "    return {'pojavitev_besed' : znacilke, 'oznake':oznake}"
   ]
  },
  {
   "cell_type": "code",
   "execution_count": null,
   "metadata": {
    "collapsed": true
   },
   "outputs": [],
   "source": [
    "def preuredi_besedilo(tekst):\n",
    "    '''\n",
    "    Metoda vrne prečiščen tekst\n",
    "    '''\n",
    "    tekst = tekst.lower()\n",
    "    tekst = re.sub('((www\\.[^\\s]+)|(https?://[^\\s]+))','', tekst)\n",
    "    tekst = re.sub('newline_token', '', tekst)\n",
    "    tekst = re.sub('newline', '', tekst)\n",
    "    tekst = re.sub('tokennewline', '', tekst)\n",
    "    tekst = re.sub('tab_token', '', tekst)\n",
    "    tekst = re.sub('``', '\"', tekst)\n",
    "    tekst = re.sub('`', '\\'', tekst)\n",
    "    tekst = re.sub('=', '', tekst)\n",
    "    tekst = re.sub('\\n', '', tekst)\n",
    "    tekst = re.sub(':', '', tekst)\n",
    "    tekst = re.sub('[\\s]+', ' ', tekst)\n",
    "    tekst = tekst.strip()\n",
    "    tekst = tekst.strip('\\'\"')\n",
    "    return tekst"
   ]
  },
  {
   "cell_type": "code",
   "execution_count": null,
   "metadata": {
    "collapsed": true
   },
   "outputs": [],
   "source": [
    "def get_posamezne_besede(komentar, stopwords):    \n",
    "    '''\n",
    "    Metoda odstrani presledke, končnice in vrne posamezne besede. \n",
    "    Odstranimo nepotrebne whitespace in spremenimo v male črke\n",
    "    '''\n",
    "    komentar = preuredi_besedilo(komentar)\n",
    "    komentar = \" \".join(re.split(\"[^a-zA-Z]*\", komentar.lower())).strip()    \n",
    "    stemmer = PorterStemmer()\n",
    "    besede = [] \n",
    "    for beseda in komentar.split():\n",
    "        if not beseda in stopwords:\n",
    "            try:\n",
    "                besede.append(stemmer.stem(beseda))\n",
    "            except(IndexError):\n",
    "                besede.append(beseda)\n",
    "    return besede"
   ]
  },
  {
   "cell_type": "code",
   "execution_count": null,
   "metadata": {
    "collapsed": true
   },
   "outputs": [],
   "source": [
    "def get_ngram(komentar, min_n, max_n, stopwords, join=False):\n",
    "    '''\n",
    "    Metoda vrne max_n - min_n razlicnih tipove ngramov \n",
    "    '''\n",
    "    cngrams = []\n",
    "    besede = ' '.join(get_posamezne_besede(komentar, stopwords)).split()\n",
    "    for i in range(min_n, max_n + 1):\n",
    "        cngrams.append(ngrams(besede, i))\n",
    "    if join: \n",
    "        return [e for ngram in cngrams for e in list(ngram)]\n",
    "    else: \n",
    "        return cngrams"
   ]
  },
  {
   "cell_type": "code",
   "execution_count": null,
   "metadata": {
    "collapsed": true
   },
   "outputs": [],
   "source": [
    "def word2ngrams(text, n=3, exact=True):\n",
    "    '''\n",
    "    Vrne ngrame nad besedami\n",
    "    '''\n",
    "    return [\"\".join(j) for j in zip(*[text[i:] for i in range(n)])]"
   ]
  },
  {
   "cell_type": "code",
   "execution_count": null,
   "metadata": {
    "collapsed": true
   },
   "outputs": [],
   "source": [
    "def get_all_words(tekst, algoritem, stopwords):\n",
    "    '''\n",
    "    Vrne vse bsede v tekstu\n",
    "    '''\n",
    "    rdata = []\n",
    "    for comment in tekst:\n",
    "        comment = comment.split('\\t')\n",
    "        offens_type = int(comment[0])\n",
    "        comment = comment[1]\n",
    "        for e in algoritem(komentar=comment, stopwords=stopwords):\n",
    "            rdata.append(e)\n",
    "    return rdata"
   ]
  },
  {
   "cell_type": "code",
   "execution_count": null,
   "metadata": {
    "collapsed": true
   },
   "outputs": [],
   "source": [
    "def run(tekst, test_tekst, algoritem):\n",
    "    stopwords = stopwords.words(\"english\")\n",
    "    komentarji = []\n",
    "    besede = []\n",
    "    for vrstica in tekst:\n",
    "        vrstica = vrstica.split(\"\\t\")\n",
    "        tip_zaljivosti = int(vrstica[0])\n",
    "        komentar = vrstica[1]\n",
    "        if algoritem == \"BOW\":\n",
    "            besede_komentarja = get_posamezne_besede(komentar, stopwords)\n",
    "        elif algoritem == \"NGRAM\":\n",
    "            besede_komentarja = get_ngram(komentar, 1, 3, stopwords)\n",
    "        komentarji.append((besede_komentarja, tip_zaljivosti))\n",
    "        for beseda in besede_komentarja:\n",
    "            besede.append(beseda)\n",
    "\n",
    "    znacilke_oznake = get_znacilke_oznake(komentarji, besede)    \n",
    "    problem = svm_problem(znacilke_oznake['oznake'], znacilke_oznake['pojavitev_besed'])\n",
    "    param = svm_parameter('-s 1 -b 1')\n",
    "    param.kernel_type = LINEAR\n",
    "    ucenec = svm_train(problem, param)\n",
    "    \n",
    "    test_besede = []\n",
    "    test_zaljivost = []\n",
    "    for vrstica in test_tekst:\n",
    "        vrstica = vrstica.split(\"\\t\")\n",
    "        tip_zaljivosti = int(vrstica[0])\n",
    "        komentar = vrstica[1]        \n",
    "        if algoritem == \"BOW\":\n",
    "            test_besede_komentarja = get_posamezne_besede(komentar, stopwords)\n",
    "        elif algoritem == \"NGRAM\":\n",
    "            test_besede_komentarja = get_ngram(komentar, 1, 3, stopwords)        \n",
    "        test_besede.append(test_besede_komentarja)\n",
    "        test_zaljivost.append(tip_zaljivosti)\n",
    "\n",
    "    print (\"\\n\" + algoritem)\n",
    "    test_znacilke = get_znacilke(test_besede, besede)\n",
    "    predvidevana_zaljivost, a, b = svm_predict(test_zaljivost, test_znacilke, ucenec, options = \"-b 1\")\n",
    "    print(classification_report(test_zaljivost, predvidevana_zaljivost))"
   ]
  },
  {
   "cell_type": "code",
   "execution_count": null,
   "metadata": {
    "collapsed": true
   },
   "outputs": [],
   "source": [
    "def run(tekst, test_tekst, algoritem, model):\n",
    "    "
   ]
  },
  {
   "cell_type": "code",
   "execution_count": null,
   "metadata": {
    "collapsed": true
   },
   "outputs": [],
   "source": [
    "TRAIN_SET_PER = 0.7\n",
    "CORP_SIZE = 3000\n",
    "\n",
    "def main():\n",
    "    # Pridobitev vseh podatkov\n",
    "    datoteka = open('comments.txt' encoding=\"ISO-8859-1\")\n",
    "    tekst = datoteka.readlines()[1:CORP_SIZE]\n",
    "    datoteka.close()\n",
    "    \n",
    "    shuffle(tekst)\n",
    "    \n",
    "    st_komentarjev = len(tekst)\n",
    "    deli = st_komentarjev * TRAIN_SET_PER\n",
    "    \n",
    "    # Pridobitev učnih podatkov\n",
    "    # ucna_datoteka = open('data/comments_sample.txt')\n",
    "    # ucna_tekst = ucna_datoteka.readlines()[1:]\n",
    "    # ucna_datoteka.close()\n",
    "    \n",
    "    ucna_tekst = tekst[1:5000]\n",
    "    \n",
    "    # Pridobitev testnih podatkov\n",
    "    # test_datoteka = open(\"data/test_comments.txt\")\n",
    "    # test_tekst = test_datoteka.readlines()[1:]\n",
    "    # test_datoteka.close()\n",
    "    \n",
    "    test_tekst = tekst[5000:6000]\n",
    "    \n",
    "    run(ucna_tekst, test_tekst, \"BOW\")\n",
    "    run(ucna_tekst, test_tekst, \"NGRAM\")"
   ]
  },
  {
   "cell_type": "code",
   "execution_count": null,
   "metadata": {
    "collapsed": true
   },
   "outputs": [],
   "source": [
    "main()"
   ]
  },
  {
   "cell_type": "markdown",
   "metadata": {},
   "source": [
    "Kako učimo na učni množici:\n",
    "    1. Preberemo učno datoteko s komentarji (tip komentarja in tekst)\n",
    "    2. Pridobimo stopworde (besede brez pomena)\n",
    "    3. Vsako vrstico razdelimo na tip in sam komentar:\n",
    "        1. Komentar uredimo (odstranimo odvečne znake, odstranimo končnice, pripravimo na procesiranje)\n",
    "        2. Pridobimo besede v posameznem komentarju, dodamo jih v 'slovar besed'\n",
    "    4. Slovar besed in komentarje obdelamo:\n",
    "        1. V slovarju za vsak komentar shranimo tip komentarja in besede ki se oz. \n",
    "        se ne pojavljajo v komentarju\n",
    "        2. Besede, ki se pojavijo v slovarju in v komentarju so označene z 1, ostale z 0.\n",
    "\n",
    "Kako testiramo testno množico:\n",
    "    1. Preberemo testno datoteko s komentarji (top komentarja in tekst)\n",
    "    2. Pridobimo stopworde (besede brez pomena)\n",
    "    3. Vsako vrstico razbijemo na tip in sam komentar:\n",
    "        1. Tip si shranimo za kasnejše preverjanje uspešnosti klasifikacije komentarja\n",
    "        2. Komentar uredimo (odstranimo odvečne znake, odstranimo končnice, pripravimo na procesiranje)\n",
    "        3. Pridobimo besede v posameznem komentarju, dodamo jih v 'slovar testnih besed'\n",
    "    4. Slovar besed in testnih komentarjev obdelamo:\n",
    "        1. Pridobimo informacije o besedah ki se oz. se ne pojavljaju v komentarju\n",
    "        2. Besede, ki se pojavijo v slovarju in komentarju so označene z 1, ostale z 0.\n",
    "    5. Komentarjem na podlagi pojavljanja besed določimo tip (svm_predict)\n",
    "    6. Izračunamo verjetnost (pravilno določeni tipi / vsi določeni tipi)*100\n",
    "   \n",
    "    \n",
    "        "
   ]
  }
 ],
 "metadata": {
  "kernelspec": {
   "display_name": "Python 3",
   "language": "python",
   "name": "python3"
  },
  "language_info": {
   "codemirror_mode": {
    "name": "ipython",
    "version": 3
   },
   "file_extension": ".py",
   "mimetype": "text/x-python",
   "name": "python",
   "nbconvert_exporter": "python",
   "pygments_lexer": "ipython3",
   "version": "3.6.1"
  }
 },
 "nbformat": 4,
 "nbformat_minor": 2
}
